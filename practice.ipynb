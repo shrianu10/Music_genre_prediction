{
 "cells": [
  {
   "cell_type": "code",
   "execution_count": 1,
   "id": "f2f12689",
   "metadata": {},
   "outputs": [],
   "source": [
    "import pandas as pd"
   ]
  },
  {
   "cell_type": "code",
   "execution_count": 32,
   "id": "2a37f361",
   "metadata": {},
   "outputs": [],
   "source": [
    "df=pd.DataFrame({'filename':['file1','file2','file3'],\n",
    "                'size':[100,200,300],\n",
    "                'type':['text','image','audio']})"
   ]
  },
  {
   "cell_type": "code",
   "execution_count": 33,
   "id": "24498201",
   "metadata": {},
   "outputs": [
    {
     "name": "stdout",
     "output_type": "stream",
     "text": [
      "orginal dataframe:\n",
      "  filename  size   type\n",
      "0    file1   100   text\n",
      "1    file2   200  image\n",
      "2    file3   300  audio\n"
     ]
    }
   ],
   "source": [
    "print(\"orginal dataframe:\")\n",
    "print(df)"
   ]
  },
  {
   "cell_type": "code",
   "execution_count": 34,
   "id": "7f026250",
   "metadata": {},
   "outputs": [
    {
     "name": "stdout",
     "output_type": "stream",
     "text": [
      "  filename   type\n",
      "0    file1   text\n",
      "1    file2  image\n",
      "2    file3  audio\n"
     ]
    }
   ],
   "source": [
    "df=df.drop(labels='size',axis=1)\n",
    "print(df)"
   ]
  },
  {
   "cell_type": "code",
   "execution_count": null,
   "id": "fdf2c9c6",
   "metadata": {},
   "outputs": [],
   "source": []
  }
 ],
 "metadata": {
  "kernelspec": {
   "display_name": "Python 3 (ipykernel)",
   "language": "python",
   "name": "python3"
  },
  "language_info": {
   "codemirror_mode": {
    "name": "ipython",
    "version": 3
   },
   "file_extension": ".py",
   "mimetype": "text/x-python",
   "name": "python",
   "nbconvert_exporter": "python",
   "pygments_lexer": "ipython3",
   "version": "3.10.8"
  }
 },
 "nbformat": 4,
 "nbformat_minor": 5
}
